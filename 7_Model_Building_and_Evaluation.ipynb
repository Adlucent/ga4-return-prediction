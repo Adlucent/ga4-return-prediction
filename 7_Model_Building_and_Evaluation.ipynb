{
 "cells": [
  {
   "cell_type": "markdown",
   "id": "149f8ff6-b97f-4100-b3c8-37e759a27ec6",
   "metadata": {},
   "source": [
    "# VII. Model Building"
   ]
  },
  {
   "cell_type": "code",
   "execution_count": 1,
   "id": "8134a5c7-e99d-47c5-81b2-d6759fb4a99f",
   "metadata": {
    "id": "hkDeurWfeAEu"
   },
   "outputs": [],
   "source": [
    "################################################################################\n",
    "######################### CHANGE BQ PROJECT NAME BELOW #########################\n",
    "################################################################################\n",
    "\n",
    "project_name = 'adl-analytics' #add proj name\n",
    "region = \"US\"  # GCP project region\n",
    "table_name = 'adl-analytics.return_prediction_ga4.step_6_merged_scaled'"
   ]
  },
  {
   "cell_type": "code",
   "execution_count": 2,
   "id": "aed4e4c2-607b-4408-a39e-85f972a64305",
   "metadata": {
    "tags": []
   },
   "outputs": [],
   "source": [
    "# If your notebook does not have pandas_gbq you can install it here:\n",
    "# ! pip install pandas_gbq"
   ]
  },
  {
   "cell_type": "code",
   "execution_count": 3,
   "id": "e5d25ba1-2d5a-4bd7-b073-e0269eed3e28",
   "metadata": {
    "id": "52e80308-96f6-434e-b89a-7a4e5fcdc953"
   },
   "outputs": [],
   "source": [
    "# Google credentials \n",
    "# from google.colab import auth\n",
    "# auth.authenticate_user()\n",
    "\n",
    "# BigQuery Magics \n",
    "'''BigQuery magics are used to run BigQuery SQL queries in a python environment.\n",
    "These queries can also be run in the BigQuery UI '''\n",
    "\n",
    "from google.cloud import bigquery\n",
    "from google.cloud.bigquery import magics, Client, QueryJobConfig\n",
    "\n",
    "magics.context.project = project_name #update project name \n",
    "client = bigquery.Client(project=magics.context.project)\n",
    "\n",
    "# Interface between Jupyter and BigQuery\n",
    "import pandas_gbq\n",
    "\n",
    "# data processing libraries + ML tools\n",
    "import pandas as pd\n",
    "import numpy as np\n",
    "from sklearn.preprocessing import StandardScaler\n",
    "\n",
    "# visualization\n",
    "import matplotlib.pyplot as plt\n",
    "import seaborn as sns\n",
    "\n",
    "sns.set()\n",
    "\n",
    "# suppress notebook warnings\n",
    "import warnings\n",
    "warnings.filterwarnings('ignore')\n",
    "\n",
    "# dataframe formatting\n",
    "pd.set_option(\"display.max_columns\", None)\n",
    "pd.set_option(\"display.max_rows\", 50)\n",
    "pd.set_option(\"display.float_format\", lambda x: \"%.3f\" % x)"
   ]
  },
  {
   "cell_type": "markdown",
   "id": "d8a42d75-5808-46b7-a2e6-3b6227d68539",
   "metadata": {},
   "source": [
    "# Build Models\n",
    "Using BigQuery ML"
   ]
  },
  {
   "cell_type": "markdown",
   "id": "e3b79b57-29a6-4b97-9183-b72ff8b3c7b7",
   "metadata": {},
   "source": [
    "## Linear Regression Model\n",
    "See hyperparameter details and model options [here](https://cloud.google.com/bigquery/docs/reference/standard-sql/bigqueryml-syntax-create-glm)."
   ]
  },
  {
   "cell_type": "code",
   "execution_count": 4,
   "id": "83b3e4ed-d0ed-402f-aeb4-3955452c3cda",
   "metadata": {
    "tags": []
   },
   "outputs": [
    {
     "data": {
      "application/vnd.jupyter.widget-view+json": {
       "model_id": "0fafa774f4cf4fc9812003f15b50e125",
       "version_major": 2,
       "version_minor": 0
      },
      "text/plain": [
       "Query is running:   0%|          |"
      ]
     },
     "metadata": {},
     "output_type": "display_data"
    }
   ],
   "source": [
    "%%bigquery lr_model --project $project_name\n",
    "CREATE OR REPLACE MODEL\n",
    "  `return_prediction_ga4.lr_model`\n",
    "OPTIONS\n",
    "  ( MODEL_TYPE='LINEAR_REG',\n",
    "    FIT_INTERCEPT = TRUE,\n",
    "    L1_REG = HPARAM_RANGE(0, 10.0),\n",
    "    L2_REG = HPARAM_RANGE(0, 10.0),\n",
    "    MAX_ITERATIONS = 50,\n",
    "    EARLY_STOP = FALSE,\n",
    "    DATA_SPLIT_METHOD='CUSTOM',\n",
    "    DATA_SPLIT_COL='SPLIT_COL',\n",
    "    NUM_TRIALS = 20,\n",
    "    HPARAM_TUNING_ALGORITHM = 'VIZIER_DEFAULT',\n",
    "    HPARAM_TUNING_OBJECTIVES = ['MEAN_ABSOLUTE_ERROR']) AS\n",
    "SELECT\n",
    "    * EXCEPT(user_pseudo_id, ecommerce_transaction_id, split, ecommerce_refund_value_in_usd),\n",
    "    ecommerce_refund_value_in_usd AS label,\n",
    "    'TRAIN' AS split_col\n",
    "FROM\n",
    "    `return_prediction_ga4.step_6_merged_scaled`\n",
    "WHERE\n",
    "    split = 'TRAIN'\n",
    "UNION ALL\n",
    "SELECT\n",
    "    * EXCEPT(user_pseudo_id, ecommerce_transaction_id, split, ecommerce_refund_value_in_usd),\n",
    "    ecommerce_refund_value_in_usd AS label,\n",
    "    'EVAL' AS split_col\n",
    "FROM\n",
    "    `return_prediction_ga4.step_6_merged_scaled`\n",
    "WHERE\n",
    "    split = 'VALID'\n",
    "UNION ALL\n",
    "SELECT\n",
    "    * EXCEPT(user_pseudo_id, ecommerce_transaction_id, split, ecommerce_refund_value_in_usd),\n",
    "    ecommerce_refund_value_in_usd AS label,\n",
    "    'TEST' AS split_col\n",
    "FROM\n",
    "    `return_prediction_ga4.step_6_merged_scaled`\n",
    "WHERE\n",
    "    split = 'TEST';"
   ]
  },
  {
   "cell_type": "markdown",
   "id": "4a67db32-1a83-4068-93ca-dd1a6cc8d5e2",
   "metadata": {},
   "source": [
    "## RandomForest Model\n",
    "See hyperparameter details and model options [here](https://cloud.google.com/bigquery/docs/reference/standard-sql/bigqueryml-syntax-create-random-forest)."
   ]
  },
  {
   "cell_type": "code",
   "execution_count": 6,
   "id": "bcab7c15-053d-4386-91a6-21e47c8da80d",
   "metadata": {},
   "outputs": [
    {
     "data": {
      "application/vnd.jupyter.widget-view+json": {
       "model_id": "374925271a7f44bcb5e83a265c30bd31",
       "version_major": 2,
       "version_minor": 0
      },
      "text/plain": [
       "Query is running:   0%|          |"
      ]
     },
     "metadata": {},
     "output_type": "display_data"
    }
   ],
   "source": [
    "%%bigquery rf_model --project $project_name\n",
    "CREATE OR REPLACE MODEL\n",
    "    `return_prediction_ga4.rf_model`\n",
    "OPTIONS\n",
    "  ( MODEL_TYPE='RANDOM_FOREST_REGRESSOR',\n",
    "    NUM_PARALLEL_TREE = HPARAM_RANGE(2, 200),\n",
    "    MAX_TREE_DEPTH = HPARAM_RANGE(1, 20),\n",
    "    MIN_TREE_CHILD_WEIGHT = HPARAM_RANGE(2, 20),\n",
    "    COLSAMPLE_BYNODE = HPARAM_RANGE(0.25, 0.75),\n",
    "    SUBSAMPLE = HPARAM_RANGE(0.5, 0.9),\n",
    "    EARLY_STOP = TRUE,\n",
    "    MIN_REL_PROGRESS = 0.0001,\n",
    "    DATA_SPLIT_METHOD='CUSTOM',\n",
    "    DATA_SPLIT_COL='SPLIT_COL',\n",
    "    NUM_TRIALS = 50,\n",
    "    HPARAM_TUNING_ALGORITHM = 'VIZIER_DEFAULT',\n",
    "    HPARAM_TUNING_OBJECTIVES = ['MEAN_ABSOLUTE_ERROR'] ) AS\n",
    "SELECT\n",
    "    * EXCEPT(user_pseudo_id, ecommerce_transaction_id, split, ecommerce_refund_value_in_usd),\n",
    "    ecommerce_refund_value_in_usd AS label,\n",
    "    'TRAIN' AS split_col\n",
    "FROM\n",
    "    `return_prediction_ga4.step_6_merged_scaled`\n",
    "WHERE\n",
    "    split = 'TRAIN'\n",
    "UNION ALL\n",
    "SELECT\n",
    "    * EXCEPT(user_pseudo_id, ecommerce_transaction_id, split, ecommerce_refund_value_in_usd),\n",
    "    ecommerce_refund_value_in_usd AS label,\n",
    "    'EVAL' AS split_col\n",
    "FROM\n",
    "    `return_prediction_ga4.step_6_merged_scaled`\n",
    "WHERE\n",
    "    split = 'VALID'\n",
    "UNION ALL\n",
    "SELECT\n",
    "    * EXCEPT(user_pseudo_id, ecommerce_transaction_id, split, ecommerce_refund_value_in_usd),\n",
    "    ecommerce_refund_value_in_usd AS label,\n",
    "    'TEST' AS split_col\n",
    "FROM\n",
    "    `return_prediction_ga4.step_6_merged_scaled`\n",
    "WHERE\n",
    "    split = 'TEST';"
   ]
  },
  {
   "cell_type": "markdown",
   "id": "74a9866a-f025-4e24-a620-878911b38f66",
   "metadata": {},
   "source": [
    "## XGBoost Model\n",
    "See hyperparameter details and model options [here](https://cloud.google.com/bigquery/docs/reference/standard-sql/bigqueryml-syntax-create-boosted-tree)."
   ]
  },
  {
   "cell_type": "code",
   "execution_count": 9,
   "id": "91e601f1-d989-4621-aa91-16ec028b9241",
   "metadata": {},
   "outputs": [
    {
     "data": {
      "application/vnd.jupyter.widget-view+json": {
       "model_id": "24e763eddb694b9bbecda1cd27440fdb",
       "version_major": 2,
       "version_minor": 0
      },
      "text/plain": [
       "Query is running:   0%|          |"
      ]
     },
     "metadata": {},
     "output_type": "display_data"
    }
   ],
   "source": [
    "%%bigquery xgb_model --project $project_name\n",
    "CREATE OR REPLACE MODEL\n",
    "    `return_prediction_ga4.xgb_model`\n",
    "OPTIONS\n",
    "  ( MODEL_TYPE='BOOSTED_TREE_REGRESSOR',\n",
    "    BOOSTER_TYPE = HPARAM_CANDIDATES(['GBTREE', 'DART']),\n",
    "    DART_NORMALIZE_TYPE = HPARAM_CANDIDATES(['TREE', 'FOREST']),\n",
    "    NUM_PARALLEL_TREE = HPARAM_RANGE(2, 100),\n",
    "    MAX_TREE_DEPTH = HPARAM_RANGE(1, 20),\n",
    "    DROPOUT = HPARAM_RANGE(0, 0.5),\n",
    "    LEARN_RATE = HPARAM_RANGE(0.1, 0.5),\n",
    "    MIN_TREE_CHILD_WEIGHT = HPARAM_RANGE(2, 20),\n",
    "    COLSAMPLE_BYNODE = HPARAM_RANGE(0.25, 0.75),\n",
    "    SUBSAMPLE = HPARAM_RANGE(0.5, 0.9),\n",
    "    EARLY_STOP = TRUE,\n",
    "    MIN_REL_PROGRESS = 0.0001,\n",
    "    MAX_ITERATIONS = 50,\n",
    "    DATA_SPLIT_METHOD='CUSTOM',\n",
    "    DATA_SPLIT_COL='SPLIT_COL',\n",
    "    NUM_TRIALS = 90,\n",
    "    HPARAM_TUNING_ALGORITHM = 'VIZIER_DEFAULT',\n",
    "    HPARAM_TUNING_OBJECTIVES = ['MEAN_ABSOLUTE_ERROR'] ) AS\n",
    "SELECT\n",
    "    * EXCEPT(user_pseudo_id, ecommerce_transaction_id, split, ecommerce_refund_value_in_usd),\n",
    "    ecommerce_refund_value_in_usd AS label,\n",
    "    'TRAIN' AS split_col\n",
    "FROM\n",
    "    `return_prediction_ga4.step_6_merged_scaled`\n",
    "WHERE\n",
    "    split = 'TRAIN'\n",
    "UNION ALL\n",
    "SELECT\n",
    "    * EXCEPT(user_pseudo_id, ecommerce_transaction_id, split, ecommerce_refund_value_in_usd),\n",
    "    ecommerce_refund_value_in_usd AS label,\n",
    "    'EVAL' AS split_col\n",
    "FROM\n",
    "    `return_prediction_ga4.step_6_merged_scaled`\n",
    "WHERE\n",
    "    split = 'VALID'\n",
    "UNION ALL\n",
    "SELECT\n",
    "    * EXCEPT(user_pseudo_id, ecommerce_transaction_id, split, ecommerce_refund_value_in_usd),\n",
    "    ecommerce_refund_value_in_usd AS label,\n",
    "    'TEST' AS split_col\n",
    "FROM\n",
    "    `return_prediction_ga4.step_6_merged_scaled`\n",
    "WHERE\n",
    "    split = 'TEST';"
   ]
  },
  {
   "cell_type": "code",
   "execution_count": null,
   "id": "7410f7cc-95f3-472b-b717-865e49b70bca",
   "metadata": {},
   "outputs": [],
   "source": []
  }
 ],
 "metadata": {
  "environment": {
   "kernel": "python3",
   "name": "common-cpu.m109",
   "type": "gcloud",
   "uri": "gcr.io/deeplearning-platform-release/base-cpu:m109"
  },
  "kernelspec": {
   "display_name": "Python 3",
   "language": "python",
   "name": "python3"
  },
  "language_info": {
   "codemirror_mode": {
    "name": "ipython",
    "version": 3
   },
   "file_extension": ".py",
   "mimetype": "text/x-python",
   "name": "python",
   "nbconvert_exporter": "python",
   "pygments_lexer": "ipython3",
   "version": "3.10.11"
  }
 },
 "nbformat": 4,
 "nbformat_minor": 5
}
